{
 "cells": [
  {
   "cell_type": "raw",
   "id": "06b6cfde",
   "metadata": {},
   "source": [
    "Author: Amobichukwu Amanambu\n",
    "Objectives: This project demonstrate how to predict flood susceptibility using Random forest technique and Logistic regression. Essentially., the results of the two models Tshows that the Random forest was superio in detecting Flood area within the study site. \n"
   ]
  },
  {
   "cell_type": "code",
   "execution_count": 71,
   "id": "7cbac101",
   "metadata": {},
   "outputs": [],
   "source": [
    "import numpy as np\n",
    "import matplotlib.pyplot as plt\n",
    "%matplotlib inline\n",
    "import pandas as pd"
   ]
  },
  {
   "cell_type": "code",
   "execution_count": null,
   "id": "02326b7c",
   "metadata": {},
   "outputs": [],
   "source": [
    "#The data include a binomial column with 1 as flood point and 0 as no flood"
   ]
  },
  {
   "cell_type": "code",
   "execution_count": 72,
   "id": "b2868c20",
   "metadata": {},
   "outputs": [],
   "source": [
    "dataset = pd.read_csv(r\"C:\\Users\\a.amanambu\\Desktop\\data_R\\Project22_results\\data_extact.csv\")\n",
    "X = dataset.iloc[:, 4:14].values\n",
    "y = dataset.iloc[:, 1].values"
   ]
  },
  {
   "cell_type": "code",
   "execution_count": 74,
   "id": "aafd16ed",
   "metadata": {},
   "outputs": [
    {
     "data": {
      "text/plain": [
       "(316, 14)"
      ]
     },
     "execution_count": 74,
     "metadata": {},
     "output_type": "execute_result"
    }
   ],
   "source": [
    "dataset.shape"
   ]
  },
  {
   "cell_type": "code",
   "execution_count": 60,
   "id": "1b27e755",
   "metadata": {},
   "outputs": [
    {
     "data": {
      "text/plain": [
       "array([[ 1.07131e+01, -3.33333e-01,  1.90394e+03, ...,  9.07000e+02,\n",
       "         1.69428e+01,  5.99245e+00],\n",
       "       [ 2.91038e+02,  2.22222e-01,  1.17266e+03, ...,  8.74000e+02,\n",
       "         3.22466e+00,  0.00000e+00],\n",
       "       [ 1.96928e+02, -1.11111e-01,  1.44846e+03, ...,  1.01100e+03,\n",
       "         5.55446e+00,  5.31620e+00],\n",
       "       ...,\n",
       "       [ 5.52750e+00,  4.44444e-01,  6.65656e+02, ...,  1.53400e+03,\n",
       "         1.41420e+01,  4.38148e+00],\n",
       "       [ 3.06104e+02,  2.22222e-01,  2.93165e+02, ...,  1.40200e+03,\n",
       "         3.36584e+01,  2.82024e+00],\n",
       "       [ 3.60983e+01, -3.33333e-01,  6.86143e+02, ...,  1.46100e+03,\n",
       "         2.56685e+01,  4.70117e+00]])"
      ]
     },
     "execution_count": 60,
     "metadata": {},
     "output_type": "execute_result"
    }
   ],
   "source": [
    "X"
   ]
  },
  {
   "cell_type": "code",
   "execution_count": 75,
   "id": "134b0aca",
   "metadata": {},
   "outputs": [],
   "source": [
    "#split the data\n",
    "from sklearn.model_selection import train_test_split\n",
    "X_train, X_test, y_train, y_test = train_test_split(X, y, test_size = 0.20, random_state = 0)"
   ]
  },
  {
   "cell_type": "markdown",
   "id": "8faad323",
   "metadata": {},
   "source": [
    " We need to perform Feature Scaling when we are dealing with Gradient Descent Based algorithms (Linear and Logistic Regression, Neural Network) and Distance-based algorithms (KNN, K-means, SVM) as these are very sensitive to the range of the data points"
   ]
  },
  {
   "cell_type": "code",
   "execution_count": 76,
   "id": "80d0fc67",
   "metadata": {},
   "outputs": [],
   "source": [
    "#feature scaling\n",
    "from sklearn.preprocessing import StandardScaler\n",
    "sc = StandardScaler()\n",
    "X_train = sc.fit_transform(X_train)\n",
    "X_test = sc.transform(X_test)"
   ]
  },
  {
   "cell_type": "code",
   "execution_count": 77,
   "id": "63a9c5cc",
   "metadata": {},
   "outputs": [
    {
     "data": {
      "text/plain": [
       "LogisticRegression(random_state=42)"
      ]
     },
     "execution_count": 77,
     "metadata": {},
     "output_type": "execute_result"
    }
   ],
   "source": [
    "#Training the Logistic Regression model on the Training set\n",
    "\n",
    "from sklearn.linear_model import LogisticRegression\n",
    "classifier = LogisticRegression(random_state = 42)\n",
    "classifier.fit(X_train, y_train)"
   ]
  },
  {
   "cell_type": "code",
   "execution_count": 78,
   "id": "0023e98d",
   "metadata": {},
   "outputs": [
    {
     "name": "stdout",
     "output_type": "stream",
     "text": [
      "[1]\n"
     ]
    }
   ],
   "source": [
    "#test the prediction\n",
    "\n",
    "print(classifier.predict(sc.transform([[94.2364, -0.111111, 30.9023, 0.01424570, 2088, 0.251390, 0.569156, 1225, 12.35430, 3.82352]])))"
   ]
  },
  {
   "cell_type": "code",
   "execution_count": 79,
   "id": "7afd111e",
   "metadata": {},
   "outputs": [],
   "source": [
    "#predict the testing samples\n",
    "y_pred = classifier.predict(X_test)"
   ]
  },
  {
   "cell_type": "code",
   "execution_count": 80,
   "id": "1d9b3398",
   "metadata": {},
   "outputs": [
    {
     "name": "stdout",
     "output_type": "stream",
     "text": [
      "[[ 3 18]\n",
      " [ 6 37]]\n"
     ]
    }
   ],
   "source": [
    "#confusion matrix\n",
    "from sklearn.metrics import confusion_matrix\n",
    "print(confusion_matrix(y_test,y_pred))"
   ]
  },
  {
   "cell_type": "code",
   "execution_count": 81,
   "id": "5b20f6af",
   "metadata": {},
   "outputs": [
    {
     "name": "stdout",
     "output_type": "stream",
     "text": [
      "              precision    recall  f1-score   support\n",
      "\n",
      "           0       0.33      0.14      0.20        21\n",
      "           1       0.67      0.86      0.76        43\n",
      "\n",
      "    accuracy                           0.62        64\n",
      "   macro avg       0.50      0.50      0.48        64\n",
      "weighted avg       0.56      0.62      0.57        64\n",
      "\n"
     ]
    }
   ],
   "source": [
    "#precision, recall, F1score\n",
    "from sklearn.metrics import classification_report\n",
    "print(classification_report(y_test, y_pred))"
   ]
  },
  {
   "cell_type": "code",
   "execution_count": 82,
   "id": "d17c88b2",
   "metadata": {},
   "outputs": [],
   "source": [
    "#WHICH IS Essentailly Flood SUSCEPTIBILITY. To do this ,\n",
    "# call the probabilities ofthe model instal of the predict function from the model\n",
    "\n",
    "y_prob = classifier.predict_proba(X_test)"
   ]
  },
  {
   "cell_type": "raw",
   "id": "6f9a519a",
   "metadata": {},
   "source": [
    "#AUC score\n",
    "from sklearn.metrics import roc_auc_score\n",
    "roc_auc_score(y_test, y_prob[:,1])"
   ]
  },
  {
   "cell_type": "markdown",
   "id": "f106ced1",
   "metadata": {},
   "source": [
    "Next, I calculate the ROC curve and plot the result using Matplotlib. The roc_curve() function produces multiple outputs at once using tuple unpacking."
   ]
  },
  {
   "cell_type": "code",
   "execution_count": 84,
   "id": "0c42704c",
   "metadata": {},
   "outputs": [
    {
     "data": {
      "image/png": "[encoded data removed]",
      "text/plain": [
       "<Figure size 432x288 with 1 Axes>"
      ]
     },
     "metadata": {
      "needs_background": "light"
     },
     "output_type": "display_data"
    }
   ],
   "source": [
    "from sklearn.metrics import roc_curve\n",
    "\n",
    "fpr, tpr, _ = roc_curve(y_test,  y_prob[:, 1])\n",
    "plt.plot(fpr,tpr, color ='red', lw=2, label=\"All Variables\")\n",
    "plt.plot([0, 1], [0, 1], color='navy', lw=2, linestyle='--')\n",
    "plt.xlim([-.05, 1.0])\n",
    "plt.ylim([-.05, 1.05])\n",
    "plt.xlabel('False Positive Rate')\n",
    "plt.ylabel('True Positive Rate')\n",
    "plt.title('ROC Curve')\n",
    "plt.legend(loc=\"lower right\")\n",
    "#plt.show()\n",
    "plt.savefig('ROC')"
   ]
  },
  {
   "cell_type": "markdown",
   "id": "44c06f56",
   "metadata": {},
   "source": [
    "# Run with Random Forest and Compare"
   ]
  },
  {
   "cell_type": "raw",
   "id": "fda19229",
   "metadata": {},
   "source": [
    "To Run Random forest we need to select the most important hyper parameter for the model. \n",
    "Create a dictionary with the parameter names and possible range of values in a list."
   ]
  },
  {
   "cell_type": "code",
   "execution_count": 111,
   "id": "35073a39",
   "metadata": {},
   "outputs": [],
   "source": [
    "# I am bringing in the data again because i wnat to use an unscaled data. The log model was scaled but this is not.\n",
    "\n",
    "dataset = pd.read_csv(r\"C:\\Users\\a.amanambu\\Desktop\\data_R\\Project22_results\\data_extact.csv\")\n",
    "X = dataset.iloc[:, 4:14].values\n",
    "y = dataset.iloc[:, 1].values\n",
    "\n",
    "# training and testing samples\n",
    "from sklearn.model_selection import train_test_split\n",
    "X_train, X_test, y_train, y_test = train_test_split(X, y, test_size = 0.20, random_state = 0)"
   ]
  },
  {
   "cell_type": "code",
   "execution_count": 112,
   "id": "1f72f8b6",
   "metadata": {},
   "outputs": [],
   "source": [
    "from sklearn.ensemble import RandomForestClassifier\n",
    "from sklearn.model_selection import GridSearchCV\n",
    "#Here are Parameters currently in use. Pleasae look up the Scickit learn Documentation\n",
    "####Parameters currently in use:\n",
    "\n",
    "# {'bootstrap': True,\n",
    "#  'criterion': 'mse',\n",
    "#  'max_depth': None,\n",
    "#  'max_features': 'auto',\n",
    "#  'max_leaf_nodes': None,\n",
    "#  'min_impurity_decrease': 0.0,\n",
    "#  'min_impurity_split': None,\n",
    "#  'min_samples_leaf': 1,\n",
    "#  'min_samples_split': 2,\n",
    "#  'min_weight_fraction_leaf': 0.0,\n",
    "#  'n_estimators': 10,\n",
    "#  'n_jobs': 1,\n",
    "#  'oob_score': False,\n",
    "#  'random_state': None,\n",
    "#  'verbose': 0,\n",
    "#  'warm_start': False}\n",
    "\n",
    "# Define the parameters\n",
    "GridParams = {\n",
    "    'bootstrap': [True],\n",
    "    'max_depth': [int(x) for x in np.linspace(10, 110, num = 11)],\n",
    "    'max_features': [2, 3],\n",
    "    'min_samples_leaf': [3, 4, 5],\n",
    "    'min_samples_split': [8, 10, 12],\n",
    "    'n_estimators': [int(x) for x in np.linspace(start = 200, stop = 2000, num = 10)]\n",
    "}\n",
    "\n",
    "RandomForest = RandomForestClassifier()\n",
    "\n",
    "#Define the grid search parameters using a 3-fold cross validation\n",
    "\n",
    "GridSearch = GridSearchCV(estimator = RandomForest, param_grid = GridParams, cv = 3, n_jobs = -1, verbose = 2)\n"
   ]
  },
  {
   "cell_type": "code",
   "execution_count": 113,
   "id": "fbf70c86",
   "metadata": {},
   "outputs": [
    {
     "name": "stdout",
     "output_type": "stream",
     "text": [
      "Fitting 5 folds for each of 1980 candidates, totalling 9900 fits\n"
     ]
    },
    {
     "data": {
      "text/plain": [
       "GridSearchCV(cv=5, estimator=RandomForestClassifier(), n_jobs=-1,\n",
       "             param_grid={'bootstrap': [True],\n",
       "                         'max_depth': [10, 20, 30, 40, 50, 60, 70, 80, 90, 100,\n",
       "                                       110],\n",
       "                         'max_features': [2, 3], 'min_samples_leaf': [3, 4, 5],\n",
       "                         'min_samples_split': [8, 10, 12],\n",
       "                         'n_estimators': [200, 400, 600, 800, 1000, 1200, 1400,\n",
       "                                          1600, 1800, 2000]},\n",
       "             verbose=2)"
      ]
     },
     "execution_count": 113,
     "metadata": {},
     "output_type": "execute_result"
    }
   ],
   "source": [
    "GridSearch.fit(X_train, y_train)"
   ]
  },
  {
   "cell_type": "code",
   "execution_count": 115,
   "id": "745125c2",
   "metadata": {},
   "outputs": [
    {
     "data": {
      "text/plain": [
       "{'bootstrap': True,\n",
       " 'max_depth': 50,\n",
       " 'max_features': 3,\n",
       " 'min_samples_leaf': 5,\n",
       " 'min_samples_split': 10,\n",
       " 'n_estimators': 200}"
      ]
     },
     "execution_count": 115,
     "metadata": {},
     "output_type": "execute_result"
    }
   ],
   "source": [
    "#What are the best parameter\n",
    "GridSearch.best_params_"
   ]
  },
  {
   "cell_type": "code",
   "execution_count": 116,
   "id": "a26d5f09",
   "metadata": {},
   "outputs": [
    {
     "name": "stdout",
     "output_type": "stream",
     "text": [
      "RandomForestClassifier(max_depth=50, max_features=3, min_samples_leaf=5,\n",
      "                       min_samples_split=10, n_estimators=200)\n"
     ]
    }
   ],
   "source": [
    "#Use the generated estimator\n",
    "RandomForest_model = GridSearch.best_estimator_\n",
    "print(RandomForest_model)\n",
    "RandomForest_pred = RandomForest_model.predict(X_test)"
   ]
  },
  {
   "cell_type": "code",
   "execution_count": 122,
   "id": "ad0ff9ef",
   "metadata": {},
   "outputs": [
    {
     "name": "stdout",
     "output_type": "stream",
     "text": [
      "[[17  4]\n",
      " [ 9 34]]\n"
     ]
    }
   ],
   "source": [
    "#confusion matrix\n",
    "from sklearn.metrics import confusion_matrix\n",
    "print(confusion_matrix(y_test, RandomForest_pred))"
   ]
  },
  {
   "cell_type": "code",
   "execution_count": 123,
   "id": "9985edf4",
   "metadata": {},
   "outputs": [
    {
     "name": "stdout",
     "output_type": "stream",
     "text": [
      "              precision    recall  f1-score   support\n",
      "\n",
      "           0       0.65      0.81      0.72        21\n",
      "           1       0.89      0.79      0.84        43\n",
      "\n",
      "    accuracy                           0.80        64\n",
      "   macro avg       0.77      0.80      0.78        64\n",
      "weighted avg       0.82      0.80      0.80        64\n",
      "\n"
     ]
    }
   ],
   "source": [
    "#precision, recall, F1score\n",
    "from sklearn.metrics import classification_report\n",
    "print(classification_report(y_test, RandomForest_pred))"
   ]
  },
  {
   "cell_type": "code",
   "execution_count": 124,
   "id": "83376659",
   "metadata": {},
   "outputs": [],
   "source": [
    "#probabilities\n",
    "#WHICH IS Essentailly Flood SUSCEPTIBILITY. To do this ,\n",
    "# call the probabilities ofthe model instal of the predict function from the model\n",
    "y_prob = RandomForest_model.predict_proba(X_test)"
   ]
  },
  {
   "cell_type": "code",
   "execution_count": 125,
   "id": "cc8f1825",
   "metadata": {},
   "outputs": [
    {
     "data": {
      "text/plain": [
       "0.8261351052048727"
      ]
     },
     "execution_count": 125,
     "metadata": {},
     "output_type": "execute_result"
    }
   ],
   "source": [
    "#AUC score\n",
    "from sklearn.metrics import roc_auc_score\n",
    "roc_auc_score(y_test, y_prob[:,1])"
   ]
  },
  {
   "cell_type": "code",
   "execution_count": 134,
   "id": "d1a891a6",
   "metadata": {},
   "outputs": [
    {
     "data": {
      "image/png": "[encoded data removed]",
      "text/plain": [
       "<Figure size 864x720 with 1 Axes>"
      ]
     },
     "metadata": {
      "needs_background": "light"
     },
     "output_type": "display_data"
    }
   ],
   "source": [
    "#Plot ROC Curve for Random Forest\n",
    "\n",
    "from sklearn.metrics import roc_curve\n",
    "fpr, tpr, _ = roc_curve(y_test,  y_prob[:, 1])\n",
    "plt.plot(fpr,tpr, color ='red', lw=2, label=\"All Variables\")\n",
    "plt.plot([0, 1], [0, 1], color='navy', lw=2, linestyle='--')\n",
    "plt.xlim([-.05, 1.0])\n",
    "plt.ylim([-.05, 1.05])\n",
    "plt.xlabel('False Positive Rate')\n",
    "plt.ylabel('True Positive Rate')\n",
    "plt.title('ROC Curve: Random Forest')\n",
    "plt.legend(loc=\"lower right\")\n",
    "plt.show()\n",
    "#plt.savefig('ROC')"
   ]
  },
  {
   "cell_type": "markdown",
   "id": "73b94b31",
   "metadata": {},
   "source": [
    "# Predict the models on Raster Data"
   ]
  },
  {
   "cell_type": "code",
   "execution_count": 130,
   "id": "7910d83b",
   "metadata": {},
   "outputs": [],
   "source": [
    "from pyspatialml import Raster"
   ]
  },
  {
   "cell_type": "code",
   "execution_count": 131,
   "id": "b42ecdc0",
   "metadata": {},
   "outputs": [],
   "source": [
    "from glob import glob\n",
    "import os\n",
    "data_dir = r\"C:\\Users\\a.amanambu\\Desktop\\data_R\\Resampled\"\n",
    "file_list = glob(os.path.join(data_dir, '*.tif'))\n",
    "# data_array = []\n",
    "# for raster in file_list:\n",
    "#     data_array.append()\n",
    "\n",
    "r_preds = Raster(file_list)"
   ]
  },
  {
   "cell_type": "code",
   "execution_count": 132,
   "id": "6d1cf704",
   "metadata": {},
   "outputs": [
    {
     "name": "stdout",
     "output_type": "stream",
     "text": [
      "['aspect', 'curvature', 'driver', 'Droad', 'elevation', 'NDSI', 'NDVI', 'rainfall', 'slope', 'TWI']\n"
     ]
    }
   ],
   "source": [
    "print(r_preds.names)"
   ]
  },
  {
   "cell_type": "code",
   "execution_count": 135,
   "id": "437999b6",
   "metadata": {},
   "outputs": [],
   "source": [
    "result = r_preds.predict_proba(estimator = RandomForest_model)"
   ]
  },
  {
   "cell_type": "code",
   "execution_count": 136,
   "id": "552b1af9",
   "metadata": {},
   "outputs": [
    {
     "data": {
      "text/plain": [
       "<pyspatialml.raster.Raster at 0x278a9bddf88>"
      ]
     },
     "execution_count": 136,
     "metadata": {},
     "output_type": "execute_result"
    }
   ],
   "source": [
    "result.write(r\"C:\\Users\\a.amanambu\\Desktop\\data_R\\Project22_results\\result.tif\")"
   ]
  },
  {
   "cell_type": "code",
   "execution_count": 114,
   "id": "8779daf9",
   "metadata": {},
   "outputs": [],
   "source": [
    "#I made a map for the sake of visualisation but do most of my visualisation in aRCgIS"
   ]
  },
  {
   "cell_type": "code",
   "execution_count": 139,
   "id": "e36aafdb",
   "metadata": {},
   "outputs": [
    {
     "data": {
      "text/plain": [
       "<matplotlib.image.AxesImage at 0x278aa27f288>"
      ]
     },
     "execution_count": 139,
     "metadata": {},
     "output_type": "execute_result"
    },
    {
     "data": {
      "image/png": "[encoded data removed]",
      "text/plain": [
       "<Figure size 864x720 with 1 Axes>"
      ]
     },
     "metadata": {
      "needs_background": "light"
     },
     "output_type": "display_data"
    }
   ],
   "source": [
    "from matplotlib.colors import ListedColormap, BoundaryNorm\n",
    "import seaborn as sns\n",
    "import rasterio as rio\n",
    "\n",
    "#create color Ramps\n",
    "colors = ['white', 'darkgreen', 'maroon']\n",
    "class_bins = [.35, .65, 1.0]\n",
    "cmap = ListedColormap(colors)\n",
    "\n",
    "#Make the plot          \n",
    "m_result = rio.open(r\"C:\\Users\\a.amanambu\\Desktop\\data_R\\Project22_results\\result.tif\")\n",
    "m_result_arr = m_result.read(2)\n",
    "plt.rcParams['figure.figsize'] = [12, 10]\n",
    "plt.imshow(m_result_arr, cmap = cmap)"
   ]
  }
 ],
 "metadata": {
  "kernelspec": {
   "display_name": "Python 3 (ipykernel)",
   "language": "python",
   "name": "python3"
  },
  "language_info": {
   "codemirror_mode": {
    "name": "ipython",
    "version": 3
   },
   "file_extension": ".py",
   "mimetype": "text/x-python",
   "name": "python",
   "nbconvert_exporter": "python",
   "pygments_lexer": "ipython3",
   "version": "3.7.13"
  }
 },
 "nbformat": 4,
 "nbformat_minor": 5
}
